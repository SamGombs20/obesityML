{
 "cells": [
  {
   "cell_type": "code",
   "execution_count": 20,
   "metadata": {},
   "outputs": [
    {
     "data": {
      "text/plain": [
       "np.float64(0.0)"
      ]
     },
     "execution_count": 20,
     "metadata": {},
     "output_type": "execute_result"
    }
   ],
   "source": [
    "from pydantic import BaseModel\n",
    "import pandas as pd\n",
    "\n",
    "import pandas as pd\n",
    "from sklearn.preprocessing import LabelEncoder, MinMaxScaler\n",
    "\n",
    "le = LabelEncoder()\n",
    "class InputModel(BaseModel):\n",
    "    Gender: str\n",
    "    Age: int\n",
    "    Height: float\n",
    "    Weight: float\n",
    "    family_history_with_overweight:str\n",
    "    FAVC: str\n",
    "    FCVC: float\n",
    "    NCP: float\n",
    "    CAEC: str\n",
    "    SMOKE: str\n",
    "    CH2O: float\n",
    "    SCC: str\n",
    "    FAF: float\n",
    "    TUE: float\n",
    "    CALC: str\n",
    "    MTRANS: str\n",
    "\n",
    "input = InputModel(\n",
    "    Gender= \"Female\",\n",
    "  Age= 21,\n",
    "  Height= 1.62,\n",
    "  Weight= 64.0,\n",
    "  family_history_with_overweight= \"yes\",\n",
    "  FAVC= \"no\",\n",
    "  FCVC= 2.0,\n",
    "  NCP= 3.0,\n",
    "  CAEC= \"Sometimes\",\n",
    "  SMOKE= \"no\",\n",
    "  CH2O= 2.0,\n",
    "  SCC= \"no\",\n",
    "  FAF= 0.0,\n",
    "  TUE= 1.0,\n",
    "  CALC= \"no\",\n",
    "  MTRANS= \"Public_Transportation\"\n",
    ")\n",
    "\n",
    "def generate_dataframe(data:InputModel):\n",
    "    return pd.DataFrame([data.model_dump()])\n",
    "def  preprocess(df:pd.DataFrame)-> pd.DataFrame:\n",
    "    df['Gender'] = le.fit_transform(df['Gender'])\n",
    "    df['family_history_with_overweight'] = le.fit_transform(df['family_history_with_overweight'])\n",
    "    df['FAVC'] = le.fit_transform(df['FAVC'])\n",
    "    df['CAEC'] = le.fit_transform(df['CAEC'])\n",
    "    df['SMOKE'] = le.fit_transform(df['SMOKE'])\n",
    "    df['SCC']= le.fit_transform(df['SCC'])\n",
    "    df['CALC']= le.fit_transform(df['CALC'])\n",
    "    df['MTRANS'] = le.fit_transform(df['MTRANS'])\n",
    "    \n",
    "    return df\n",
    "\n",
    "def predict(prediction)-> str:\n",
    "    prediction_map = {\n",
    "        0: \"Insufficient_Weight\",\n",
    "        1: \"Normal_Weight\",\n",
    "        2: \"Overweight_Level_I\",\n",
    "        3: \"Overweight_Level_II\",\n",
    "        4: \"Obesity_Type_I\",\n",
    "        5: \"Obesity_Type_II\",\n",
    "        6: \"Obesity_Type_III\"\n",
    "    }\n",
    "    return prediction_map.get(prediction, \"Invalid Prediction\")\n",
    "\n",
    "def scaleData(df:pd.DataFrame)->pd.DataFrame:\n",
    "    scaler = MinMaxScaler(feature_range=(0,1))\n",
    "    return scaler.fit_transform(df)\n",
    "\n",
    "df = preprocess(generate_dataframe(input))\n",
    "scaled_data = scaleData(df)\n",
    "scaled_data[0][2]\n"
   ]
  }
 ],
 "metadata": {
  "kernelspec": {
   "display_name": ".venv",
   "language": "python",
   "name": "python3"
  },
  "language_info": {
   "codemirror_mode": {
    "name": "ipython",
    "version": 3
   },
   "file_extension": ".py",
   "mimetype": "text/x-python",
   "name": "python",
   "nbconvert_exporter": "python",
   "pygments_lexer": "ipython3",
   "version": "3.12.3"
  }
 },
 "nbformat": 4,
 "nbformat_minor": 2
}
