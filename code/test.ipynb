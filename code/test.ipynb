{
 "cells": [
  {
   "cell_type": "code",
   "execution_count": 1,
   "metadata": {},
   "outputs": [
    {
     "name": "stdout",
     "output_type": "stream",
     "text": [
      "        Age   Height    Weight  family_history_with_overweight  FAVC  FCVC  \\\n",
      "0 -0.521741 -0.87438 -0.862558                               1     0   2.0   \n",
      "\n",
      "        NCP  SMOKE      CH2O  SCC  ...  CAEC_Frequently  CAEC_Sometimes  \\\n",
      "0  0.404102      0 -0.013141    0  ...              0.0             1.0   \n",
      "\n",
      "   CAEC_no  CALC_Frequently  CALC_Sometimes  CALC_no  MTRANS_Bike  \\\n",
      "0      0.0              0.0             0.0      1.0          0.0   \n",
      "\n",
      "   MTRANS_Motorbike  MTRANS_Public_Transportation  MTRANS_Walking  \n",
      "0               0.0                           1.0             0.0  \n",
      "\n",
      "[1 rows x 23 columns]\n",
      "        Age   Height    Weight  family_history_with_overweight  FAVC  FCVC  \\\n",
      "0 -0.521741 -0.87438 -0.862558                               1     0   2.0   \n",
      "\n",
      "        NCP  SMOKE      CH2O  SCC  ...  CAEC_Frequently  CAEC_Sometimes  \\\n",
      "0  0.404102      0 -0.013141    0  ...              0.0             1.0   \n",
      "\n",
      "   CAEC_no  CALC_Frequently  CALC_Sometimes  CALC_no  MTRANS_Bike  \\\n",
      "0      0.0              0.0             0.0      1.0          0.0   \n",
      "\n",
      "   MTRANS_Motorbike  MTRANS_Public_Transportation  MTRANS_Walking  \n",
      "0               0.0                           1.0             0.0  \n",
      "\n",
      "[1 rows x 23 columns]\n"
     ]
    },
    {
     "name": "stderr",
     "output_type": "stream",
     "text": [
      "/tmp/ipykernel_6321/2699396991.py:53: FutureWarning: Downcasting behavior in `replace` is deprecated and will be removed in a future version. To retain the old behavior, explicitly call `result.infer_objects(copy=False)`. To opt-in to the future behavior, set `pd.set_option('future.no_silent_downcasting', True)`\n",
      "  df[binary_features] = df[binary_features].replace({\"yes\":1, \"no\":0})\n"
     ]
    }
   ],
   "source": [
    "from pydantic import BaseModel\n",
    "import pandas as pd\n",
    "\n",
    "import joblib\n",
    "\n",
    "\n",
    "\n",
    "class InputModel(BaseModel):\n",
    "    Gender: str\n",
    "    Age: int\n",
    "    Height: float\n",
    "    Weight: float\n",
    "    family_history_with_overweight:str\n",
    "    FAVC: str\n",
    "    FCVC: float\n",
    "    NCP: float\n",
    "    CAEC: str\n",
    "    SMOKE: str\n",
    "    CH2O: float\n",
    "    SCC: str\n",
    "    FAF: float\n",
    "    TUE: float\n",
    "    CALC: str\n",
    "    MTRANS: str\n",
    "\n",
    "input = InputModel(\n",
    "    Gender= \"Female\",\n",
    "  Age= 21,\n",
    "  Height= 1.62,\n",
    "  Weight= 64.0,\n",
    "  family_history_with_overweight= \"yes\",\n",
    "  FAVC= \"no\",\n",
    "  FCVC= 2.0,\n",
    "  NCP= 3.0,\n",
    "  CAEC= \"Sometimes\",\n",
    "  SMOKE= \"no\",\n",
    "  CH2O= 2.0,\n",
    "  SCC= \"no\",\n",
    "  FAF= 0.0,\n",
    "  TUE= 1.0,\n",
    "  CALC= \"no\",\n",
    "  MTRANS= \"Public_Transportation\"\n",
    ")\n",
    "\n",
    "encoder = joblib.load(\"../data/encoder.pkl\")\n",
    "scaler = joblib.load(\"../data/scaler.pkl\")\n",
    "\n",
    "def generate_dataframe(data:InputModel):\n",
    "    return pd.DataFrame([data.model_dump()])\n",
    "def  preprocess(df:pd.DataFrame)-> pd.DataFrame:\n",
    "    #Binary encoding for binary data\n",
    "    binary_features = [\"family_history_with_overweight\", \"FAVC\", \"SMOKE\", \"SCC\"]\n",
    "    df[binary_features] = df[binary_features].replace({\"yes\":1, \"no\":0})\n",
    "\n",
    "    #One-Hot encoding for categorical features\n",
    "    categorical_features = [\"Gender\", \"CAEC\", \"CALC\", \"MTRANS\"]\n",
    "    encoded_cats = encoder.transform(df[categorical_features])\n",
    "    encoded_cat_df = pd.DataFrame(encoded_cats, columns=encoder.get_feature_names_out(categorical_features))\n",
    "\n",
    "    df = df.drop(columns=df[categorical_features])\n",
    "    df = pd.concat([df,encoded_cat_df], axis=1)\n",
    "    \n",
    "    return df\n",
    "\n",
    "def predict(prediction:int)-> str:\n",
    "    prediction_map = {\n",
    "        0: \"Insufficient_Weight\",\n",
    "        1: \"Normal_Weight\",\n",
    "        2: \"Overweight_Level_I\",\n",
    "        3: \"Overweight_Level_II\",\n",
    "        4: \"Obesity_Type_I\",\n",
    "        5: \"Obesity_Type_II\",\n",
    "        6: \"Obesity_Type_III\"\n",
    "    }\n",
    "    return prediction_map.get(prediction, \"Invalid Prediction\")\n",
    "\n",
    "def scaleData(df:pd.DataFrame)->pd.DataFrame:\n",
    "    continuous_features = [\"Age\", \"Height\", \"Weight\", \"NCP\", \"CH2O\", \"FAF\"]\n",
    "    df1 = df\n",
    "    df1[continuous_features] = scaler.transform(df1[continuous_features])\n",
    "\n",
    "    return df1\n",
    "\n",
    "df = preprocess(generate_dataframe(input))\n",
    "scaled_data = scaleData(df)\n",
    "print(df)\n",
    "print(scaled_data)\n",
    "\n"
   ]
  },
  {
   "cell_type": "code",
   "execution_count": null,
   "metadata": {},
   "outputs": [
    {
     "name": "stdout",
     "output_type": "stream",
     "text": [
      "/code/model.pkl\n"
     ]
    }
   ],
   "source": [
    "import os\n"
   ]
  }
 ],
 "metadata": {
  "kernelspec": {
   "display_name": ".venv",
   "language": "python",
   "name": "python3"
  },
  "language_info": {
   "codemirror_mode": {
    "name": "ipython",
    "version": 3
   },
   "file_extension": ".py",
   "mimetype": "text/x-python",
   "name": "python",
   "nbconvert_exporter": "python",
   "pygments_lexer": "ipython3",
   "version": "3.12.3"
  }
 },
 "nbformat": 4,
 "nbformat_minor": 2
}
